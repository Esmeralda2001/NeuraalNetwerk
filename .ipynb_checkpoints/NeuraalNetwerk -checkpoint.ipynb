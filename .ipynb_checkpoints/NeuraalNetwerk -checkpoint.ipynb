{
 "cells": [
  {
   "cell_type": "markdown",
   "metadata": {},
   "source": [
    "# Doorrekenen Neuraal Netwerk"
   ]
  },
  {
   "cell_type": "code",
   "execution_count": null,
   "metadata": {},
   "outputs": [],
   "source": [
    "import json\n",
    "import numpy"
   ]
  },
  {
   "cell_type": "markdown",
   "metadata": {},
   "source": [
    "Importeren van json en numpy "
   ]
  },
  {
   "cell_type": "code",
   "execution_count": null,
   "metadata": {},
   "outputs": [],
   "source": [
    "def makeMatrix(file, arrName):\n",
    "    w = []\n",
    "    with open(file) as f:\n",
    "        data = json.load(f)\n",
    "\n",
    "        for weights in data[arrName][\"weights\"]:\n",
    "            row = numpy.zeros(int(data[arrName][\"size_out\"]))\n",
    "            for index, num in data[arrName][\"weights\"][weights].items():\n",
    "                i = int(index)-1\n",
    "                row[i] = float(data[arrName][\"weights\"][weights][index])\n",
    "            w.append(row)\n",
    "    return w"
   ]
  },
  {
   "cell_type": "markdown",
   "metadata": {},
   "source": [
    "'makeMatrix' is een functie die waardes uit het gegeven json bestand leest, en deze daarna in een 2d-array zet. \n",
    "\n",
    "Dit wordt in twee for loopjes gedaan. In de eerste for loop wordt voor iedere loop een 2d-array 'row', met alleen maar nullen erin, aangemaakt. In de tweede for loop worden de gewenste waardes uitgelezen en deze worden daarna op de juiste index in 'row' neergezet. Als de tweede for loop klaar is met loopen, dan wordt 'row' toegevoegd aan array 'w'. "
   ]
  },
  {
   "cell_type": "code",
   "execution_count": null,
   "metadata": {},
   "outputs": [],
   "source": [
    "def matrixDot(m1, m2):\n",
    "    answers = numpy.zeros((m1.shape[0], m2.shape[1]))\n",
    "    for v in range(m1.shape[0]):\n",
    "        for i in range(m2.shape[1]):\n",
    "            for j in range(m1.shape[1]):\n",
    "                a = float(m1[v,j]) * float(m2[j, i])\n",
    "                answers[v,i] += a\n",
    "    return answers"
   ]
  },
  {
   "cell_type": "markdown",
   "metadata": {},
   "source": [
    "'matrixDot' is een functie die twee arrays vermenigvuldigd met elkaar. \n",
    "\n",
    "Er wordt een array 'answers' aangemaakt. Answers is een 2d array. De hoogte en breedte wordt bepaald door de twee meegegeven matrixen. De breedte van 'answers' is even groot als de breedte van matrix-2. De hoogte van 'answers' is even hoog als de hoogte van matrix-1. \n",
    "\n",
    "In de eerste for loop wordt door de hoogte van matrix-1 gelooped. In de tweede for loop wordt door de breedte van matrix-2 gelooped. In de derde en laatste for loop wordt door de breedte van matrix-1 gelooped. Zo wordt er voor gezorgd dat alle waardes in beide matrixen bereikt worden en dat deze ook met elkaar worden vermenigvuldigd. \n",
    "\n",
    "m1[v, j] x m2[j, i]. \n",
    "m1: v is de huidige rij uit m1 die wordt vermenigvuldigd. j is de waarde in de huidige rij die wordt vermenigvuldigd. \n",
    "m2: j is de huidige rij uit m2 die wordt vermenigvuldigd. i is de waarde in de huidige rij die wordt vermenigvuldigd. \n",
    "\n",
    "De antwoorden van de vermenigvuldigingen worden gelijk in array 'answers' neergezet. Dit wordt gedaan door gebruik te maken van index 'v' en index 'i' (v = hoogte m1, ofwel hoogte answers; i = breedte m2, ofwel breedte answers) "
   ]
  },
  {
   "cell_type": "code",
   "execution_count": null,
   "metadata": {},
   "outputs": [],
   "source": [
    "def hiddenLayer(fileName):\n",
    "    inp = numpy.matrix([[1,1,1,1,1]])\n",
    "\n",
    "    w1 = numpy.matrix(makeMatrix(fileName, \"layer1\"))\n",
    "    layer1 = numpy.matrix(matrixDot(inp, w1))\n",
    "\n",
    "    w2 = numpy.matrix(makeMatrix(fileName, \"layer2\"))\n",
    "    layer2 = numpy.matrix(matrixDot(layer1, w2))\n",
    "\n",
    "    return layer2\n",
    "\n",
    "hiddenLayer('example-2layer.json')"
   ]
  },
  {
   "cell_type": "markdown",
   "metadata": {},
   "source": [
    "hiddenLayer is de functie die uiteindelijk de output van hidden layer (layer 2) berekent. \n",
    "\n",
    "De functie start met het opzetten van een matrix met 5 enen. Daarna wordt een matrix 'w1' gemaakt. Deze wordt gemaakt door 'makeMatrix' en 'numpy.matrix' aan te roepen. \n",
    "\n",
    "Als w1 is opgesteld dan wordt in variabele 'layer1' berekent wat de output is van layer1. Dit wordt gedaan door functie 'matrixDot' aan te roepen. De input-matrix en w1-matrix worden met elkaar vermenigvuldigd. \n",
    "\n",
    "w2 wordt net zoals w1 opgesteld door middel van 'makeMatrix'. Daarna wordt layer2 berekent. De layer1-matrix wordt vermenigvuldigd met w2-matrix. \n",
    "\n",
    "layer2 wordt dan op het laatst teruggegeven. "
   ]
  }
 ],
 "metadata": {
  "kernelspec": {
   "display_name": "Python 3",
   "language": "python",
   "name": "python3"
  },
  "language_info": {
   "codemirror_mode": {
    "name": "ipython",
    "version": 3
   },
   "file_extension": ".py",
   "mimetype": "text/x-python",
   "name": "python",
   "nbconvert_exporter": "python",
   "pygments_lexer": "ipython3",
   "version": "3.6.7"
  }
 },
 "nbformat": 4,
 "nbformat_minor": 2
}
